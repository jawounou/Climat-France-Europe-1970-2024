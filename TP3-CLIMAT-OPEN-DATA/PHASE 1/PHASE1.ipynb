{
 "cells": [
  {
   "cell_type": "code",
   "execution_count": 5,
   "metadata": {},
   "outputs": [
    {
     "name": "stderr",
     "output_type": "stream",
     "text": [
      "/var/folders/5g/dxyz07h551b0md8v8dx0w1w80000gn/T/ipykernel_35222/3752440225.py:6: FutureWarning: The 'delim_whitespace' keyword in pd.read_csv is deprecated and will be removed in a future version. Use ``sep='\\s+'`` instead\n",
      "  df_temp = pd.read_csv(berkeley_path, comment='%', delim_whitespace=True, header=None)\n"
     ]
    },
    {
     "data": {
      "text/plain": [
       "(   Year  Month  Monthly_Anomaly  Monthly_Unc  Annual_Anomaly  Annual_Unc  \\\n",
       " 0  1750      1           -1.830        1.837             NaN         NaN   \n",
       " 1  1750      2            0.220        2.099          -0.391       0.798   \n",
       " 2  1750      3            1.858        2.539          -0.340       0.820   \n",
       " 3  1750      4            0.266        1.609          -0.315       0.822   \n",
       " 4  1750      5           -0.785        1.603          -0.462       0.822   \n",
       " \n",
       "    FiveYear_Anomaly  FiveYear_Unc  TenYear_Anomaly  TenYear_Unc  \\\n",
       " 0               NaN           NaN              NaN          NaN   \n",
       " 1               NaN           NaN              NaN          NaN   \n",
       " 2               NaN           NaN              NaN          NaN   \n",
       " 3               NaN           NaN              NaN          NaN   \n",
       " 4               NaN           NaN              NaN          NaN   \n",
       " \n",
       "    TwentyYear_Anomaly  TwentyYear_Unc       Date  \n",
       " 0                 NaN             NaN 1750-01-01  \n",
       " 1                 NaN             NaN 1750-02-01  \n",
       " 2                 NaN             NaN 1750-03-01  \n",
       " 3                 NaN             NaN 1750-04-01  \n",
       " 4                 NaN             NaN 1750-05-01  ,\n",
       "           DisNo. Historic Classification Key Disaster Group Disaster Subgroup  \\\n",
       " 0  1921-9001-SUN      Yes    nat-cli-dro-dro        Natural    Climatological   \n",
       " 1  1949-0027-FRA      Yes    nat-cli-wil-wil        Natural    Climatological   \n",
       " 2  1966-0140-PRT      Yes    nat-cli-wil-for        Natural    Climatological   \n",
       " 3  1976-9162-BEL      Yes    nat-cli-dro-dro        Natural    Climatological   \n",
       " 4  1980-9359-ESP      Yes    nat-cli-dro-dro        Natural    Climatological   \n",
       " \n",
       "   Disaster Type    Disaster Subtype External IDs Event Name  ISO  ...  \\\n",
       " 0       Drought             Drought          NaN        NaN  SUN  ...   \n",
       " 1      Wildfire  Wildfire (General)          NaN        NaN  FRA  ...   \n",
       " 2      Wildfire         Forest fire          NaN        NaN  PRT  ...   \n",
       " 3       Drought             Drought          NaN        NaN  BEL  ...   \n",
       " 4       Drought             Drought          NaN        NaN  ESP  ...   \n",
       " \n",
       "   Reconstruction Costs ('000 US$) Reconstruction Costs, Adjusted ('000 US$)  \\\n",
       " 0                             NaN                                       NaN   \n",
       " 1                             NaN                                       NaN   \n",
       " 2                             NaN                                       NaN   \n",
       " 3                             NaN                                       NaN   \n",
       " 4                             NaN                                       NaN   \n",
       " \n",
       "   Insured Damage ('000 US$) Insured Damage, Adjusted ('000 US$)  \\\n",
       " 0                       NaN                                 NaN   \n",
       " 1                       NaN                                 NaN   \n",
       " 2                       NaN                                 NaN   \n",
       " 3                       NaN                                 NaN   \n",
       " 4                       NaN                                 NaN   \n",
       " \n",
       "   Total Damage ('000 US$) Total Damage, Adjusted ('000 US$)        CPI  \\\n",
       " 0                     NaN                               NaN   5.873692   \n",
       " 1                     NaN                               NaN   7.809713   \n",
       " 2                     NaN                               NaN  10.652497   \n",
       " 3                     NaN                               NaN  18.676734   \n",
       " 4               1500000.0                         5546193.0  27.045581   \n",
       " \n",
       "   Admin Units  Entry Date  Last Update  \n",
       " 0         NaN  2006-02-13   2025-03-06  \n",
       " 1         NaN  2007-08-27   2023-09-25  \n",
       " 2         NaN  2017-06-19   2023-09-25  \n",
       " 3         NaN  2006-02-13   2023-09-25  \n",
       " 4         NaN  2006-02-13   2025-03-12  \n",
       " \n",
       " [5 rows x 46 columns])"
      ]
     },
     "execution_count": 5,
     "metadata": {},
     "output_type": "execute_result"
    }
   ],
   "source": [
    "import pandas as pd\n",
    "\n",
    "# Chargement du fichier de température (Berkeley Earth .txt)\n",
    "# On ignore les lignes de commentaire qui commencent par '%'\n",
    "berkeley_path = \"/Users/jeniferawounou/Desktop/france-(europe)-TAVG-Trend-bon.txt\"\n",
    "df_temp = pd.read_csv(berkeley_path, comment='%', delim_whitespace=True, header=None)\n",
    "\n",
    "# Renommer les colonnes pour plus de clarté\n",
    "df_temp.columns = [\n",
    "    \"Year\", \"Month\", \"Monthly_Anomaly\", \"Monthly_Unc\",\n",
    "    \"Annual_Anomaly\", \"Annual_Unc\", \"FiveYear_Anomaly\", \"FiveYear_Unc\",\n",
    "    \"TenYear_Anomaly\", \"TenYear_Unc\", \"TwentyYear_Anomaly\", \"TwentyYear_Unc\"\n",
    "]\n",
    "\n",
    "# Création d'une colonne 'Date' pour l'analyse temporelle\n",
    "df_temp['Date'] = pd.to_datetime(dict(year=df_temp.Year, month=df_temp.Month, day=1))\n",
    "\n",
    "# Chargement du fichier EM-DAT (.xlsx)\n",
    "emdat_path = \"/Users/jeniferawounou/Desktop/public_emdat_custom_request_2025-04-01_955b1370-4c28-4320-97f2-9b207c3e884d.xlsx\"\n",
    "\n",
    "# Lecture du fichier Excel (après avoir installé openpyxl)\n",
    "df_disasters = pd.read_excel(\"/Users/jeniferawounou/Desktop/public_emdat_custom_request_2025-04-01_955b1370-4c28-4320-97f2-9b207c3e884d.xlsx\", engine=\"openpyxl\")\n",
    "\n",
    "\n",
    "# Afficher les premières lignes de chaque dataset pour vérification\n",
    "df_temp.head(), df_disasters.head()\n"
   ]
  },
  {
   "cell_type": "code",
   "execution_count": 3,
   "metadata": {},
   "outputs": [
    {
     "name": "stdout",
     "output_type": "stream",
     "text": [
      "Collecting openpyxl\n",
      "  Using cached openpyxl-3.1.5-py2.py3-none-any.whl.metadata (2.5 kB)\n",
      "Collecting et-xmlfile (from openpyxl)\n",
      "  Using cached et_xmlfile-2.0.0-py3-none-any.whl.metadata (2.7 kB)\n",
      "Using cached openpyxl-3.1.5-py2.py3-none-any.whl (250 kB)\n",
      "Using cached et_xmlfile-2.0.0-py3-none-any.whl (18 kB)\n",
      "Installing collected packages: et-xmlfile, openpyxl\n",
      "Successfully installed et-xmlfile-2.0.0 openpyxl-3.1.5\n"
     ]
    }
   ],
   "source": [
    "!pip install openpyxl\n",
    "\n"
   ]
  },
  {
   "cell_type": "code",
   "execution_count": 7,
   "metadata": {},
   "outputs": [
    {
     "data": {
      "text/plain": [
       "Index(['DisNo.', 'Historic', 'Classification Key', 'Disaster Group',\n",
       "       'Disaster Subgroup', 'Disaster Type', 'Disaster Subtype',\n",
       "       'External IDs', 'Event Name', 'ISO', 'Country', 'Subregion', 'Region',\n",
       "       'Location', 'Origin', 'Associated Types', 'OFDA/BHA Response', 'Appeal',\n",
       "       'Declaration', 'AID Contribution ('000 US$)', 'Magnitude',\n",
       "       'Magnitude Scale', 'Latitude', 'Longitude', 'River Basin', 'Start Year',\n",
       "       'Start Month', 'Start Day', 'End Year', 'End Month', 'End Day',\n",
       "       'Total Deaths', 'No. Injured', 'No. Affected', 'No. Homeless',\n",
       "       'Total Affected', 'Reconstruction Costs ('000 US$)',\n",
       "       'Reconstruction Costs, Adjusted ('000 US$)',\n",
       "       'Insured Damage ('000 US$)', 'Insured Damage, Adjusted ('000 US$)',\n",
       "       'Total Damage ('000 US$)', 'Total Damage, Adjusted ('000 US$)', 'CPI',\n",
       "       'Admin Units', 'Entry Date', 'Last Update'],\n",
       "      dtype='object')"
      ]
     },
     "execution_count": 7,
     "metadata": {},
     "output_type": "execute_result"
    },
    {
     "name": "stdout",
     "output_type": "stream",
     "text": [
      "The history saving thread hit an unexpected error (OperationalError('unable to open database file')).History will not be written to the database.\n"
     ]
    }
   ],
   "source": [
    "# Afficher les noms de colonnes du fichier EM-DAT pour repérer le vrai nom de \"Year\"\n",
    "df_disasters.columns\n"
   ]
  },
  {
   "cell_type": "code",
   "execution_count": 19,
   "metadata": {},
   "outputs": [
    {
     "name": "stdout",
     "output_type": "stream",
     "text": [
      "    Year  Monthly_Anomaly  Disaster_Count  Total_Deaths  Total_Damage\n",
      "0   1949         1.020917               1          80.0           0.0\n",
      "1   1982         0.891417               1           2.0           0.0\n",
      "2   1983         0.636667               1          12.0           0.0\n",
      "3   1984        -0.053083               2           0.0           0.0\n",
      "4   1985        -0.340500               1           6.0           0.0\n",
      "5   1986        -0.078833               1           5.0           0.0\n",
      "6   1989         1.227917               1           0.0     1600000.0\n",
      "7   1997         1.290000               2           0.0       10000.0\n",
      "8   1999         1.115833               1           0.0           0.0\n",
      "9   2003         1.578083               1           5.0           0.0\n",
      "10  2005         0.733667               1           2.0       10000.0\n",
      "11  2009         1.123667               1           0.0           0.0\n",
      "12  2017         1.337083               1           0.0           0.0\n",
      "Chemin actuel : /Users/jeniferawounou/TP3-CLIMAT-OPEN-DATA\n",
      "✅ Fichier sauvegardé dans la racine du projet !\n"
     ]
    }
   ],
   "source": [
    "# Recalcul de df_france suite à une perte de contexte\n",
    "# Normalisation du nom de pays\n",
    "df_disasters['Country'] = df_disasters['Country'].str.strip().str.lower()\n",
    "df_france = df_disasters[df_disasters['Country'] == 'france']\n",
    "\n",
    "# Refaire l'agrégation annuelle\n",
    "df_disasters_yearly = df_france.groupby('Start Year').agg({\n",
    "    'Disaster Type': 'count',\n",
    "    'Total Deaths': 'sum',\n",
    "    \"Total Damage ('000 US$)\": 'sum'\n",
    "}).reset_index()\n",
    "\n",
    "# Renommer les colonnes pour clarté\n",
    "df_disasters_yearly.columns = ['Year', 'Disaster_Count', 'Total_Deaths', 'Total_Damage']\n",
    "\n",
    "# Préparer les températures moyennes annuelles depuis 1900\n",
    "df_temp_filtered = df_temp[df_temp['Year'] >= 1900]\n",
    "df_temp_yearly = df_temp_filtered.groupby('Year').agg({\n",
    "    'Monthly_Anomaly': 'mean'\n",
    "}).reset_index()\n",
    "\n",
    "# Fusion des deux datasets sur l'année\n",
    "df_merged = pd.merge(df_temp_yearly, df_disasters_yearly, on='Year', how='inner')\n",
    "\n",
    "print(df_merged.head(20))\n",
    "import os\n",
    "\n",
    "# Vérifie le chemin courant (racine du projet)\n",
    "print(\"Chemin actuel :\", os.getcwd())\n",
    "\n",
    "# Sauvegarde du fichier dans ce dossier\n",
    "df_merged.to_csv(\"donnees_fusionnees_france.csv\", index=False)\n",
    "print(\"✅ Fichier sauvegardé dans la racine du projet !\")\n",
    "\n"
   ]
  }
 ],
 "metadata": {
  "kernelspec": {
   "display_name": "Python 3",
   "language": "python",
   "name": "python3"
  },
  "language_info": {
   "codemirror_mode": {
    "name": "ipython",
    "version": 3
   },
   "file_extension": ".py",
   "mimetype": "text/x-python",
   "name": "python",
   "nbconvert_exporter": "python",
   "pygments_lexer": "ipython3",
   "version": "3.12.6"
  }
 },
 "nbformat": 4,
 "nbformat_minor": 2
}
